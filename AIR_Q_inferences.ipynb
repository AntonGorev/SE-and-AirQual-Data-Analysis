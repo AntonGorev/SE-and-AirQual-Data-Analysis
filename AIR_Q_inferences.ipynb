{
 "cells": [
  {
   "cell_type": "code",
   "execution_count": 1,
   "metadata": {},
   "outputs": [],
   "source": [
    "import pandas as pd\n",
    "import numpy as np"
   ]
  },
  {
   "cell_type": "markdown",
   "metadata": {},
   "source": [
    "1. The top 5 polutants (globally)\n",
    "2. Most polluted locations (by Country/City)\n",
    "    - in terms of number of pollutants \n",
    "    - in terms of concentration\n",
    "3. Getting the population in locations where possible"
   ]
  },
  {
   "cell_type": "code",
   "execution_count": 2,
   "metadata": {},
   "outputs": [
    {
     "data": {
      "text/plain": [
       "(43450, 11)"
      ]
     },
     "execution_count": 2,
     "metadata": {},
     "output_type": "execute_result"
    }
   ],
   "source": [
    "dfmain = pd.read_csv('source//temp//AIRclean.csv')\n",
    "dfmain.shape"
   ]
  },
  {
   "cell_type": "code",
   "execution_count": 34,
   "metadata": {},
   "outputs": [
    {
     "data": {
      "text/html": [
       "<div>\n",
       "<style scoped>\n",
       "    .dataframe tbody tr th:only-of-type {\n",
       "        vertical-align: middle;\n",
       "    }\n",
       "\n",
       "    .dataframe tbody tr th {\n",
       "        vertical-align: top;\n",
       "    }\n",
       "\n",
       "    .dataframe thead th {\n",
       "        text-align: right;\n",
       "    }\n",
       "</style>\n",
       "<table border=\"1\" class=\"dataframe\">\n",
       "  <thead>\n",
       "    <tr style=\"text-align: right;\">\n",
       "      <th></th>\n",
       "      <th>Value</th>\n",
       "      <th>Lat</th>\n",
       "      <th>Long</th>\n",
       "    </tr>\n",
       "  </thead>\n",
       "  <tbody>\n",
       "    <tr>\n",
       "      <th>count</th>\n",
       "      <td>4.345000e+04</td>\n",
       "      <td>43231.000000</td>\n",
       "      <td>43231.000000</td>\n",
       "    </tr>\n",
       "    <tr>\n",
       "      <th>mean</th>\n",
       "      <td>7.655028e+02</td>\n",
       "      <td>32.746883</td>\n",
       "      <td>26.509411</td>\n",
       "    </tr>\n",
       "    <tr>\n",
       "      <th>std</th>\n",
       "      <td>3.270964e+04</td>\n",
       "      <td>20.097023</td>\n",
       "      <td>77.983076</td>\n",
       "    </tr>\n",
       "    <tr>\n",
       "      <th>min</th>\n",
       "      <td>-4.905140e+04</td>\n",
       "      <td>-74.166278</td>\n",
       "      <td>-161.767000</td>\n",
       "    </tr>\n",
       "    <tr>\n",
       "      <th>25%</th>\n",
       "      <td>1.900000e+00</td>\n",
       "      <td>27.803900</td>\n",
       "      <td>-2.940556</td>\n",
       "    </tr>\n",
       "    <tr>\n",
       "      <th>50%</th>\n",
       "      <td>1.060000e+01</td>\n",
       "      <td>37.784278</td>\n",
       "      <td>20.212689</td>\n",
       "    </tr>\n",
       "    <tr>\n",
       "      <th>75%</th>\n",
       "      <td>3.500000e+01</td>\n",
       "      <td>44.849695</td>\n",
       "      <td>105.807650</td>\n",
       "    </tr>\n",
       "    <tr>\n",
       "      <th>max</th>\n",
       "      <td>3.198676e+06</td>\n",
       "      <td>78.906690</td>\n",
       "      <td>172.681343</td>\n",
       "    </tr>\n",
       "  </tbody>\n",
       "</table>\n",
       "</div>"
      ],
      "text/plain": [
       "              Value           Lat          Long\n",
       "count  4.345000e+04  43231.000000  43231.000000\n",
       "mean   7.655028e+02     32.746883     26.509411\n",
       "std    3.270964e+04     20.097023     77.983076\n",
       "min   -4.905140e+04    -74.166278   -161.767000\n",
       "25%    1.900000e+00     27.803900     -2.940556\n",
       "50%    1.060000e+01     37.784278     20.212689\n",
       "75%    3.500000e+01     44.849695    105.807650\n",
       "max    3.198676e+06     78.906690    172.681343"
      ]
     },
     "execution_count": 34,
     "metadata": {},
     "output_type": "execute_result"
    }
   ],
   "source": [
    "#dfmain[dfmain['Value']<0].head()\n",
    "dfmain.describe()"
   ]
  },
  {
   "cell_type": "markdown",
   "metadata": {},
   "source": [
    "Minimum in Value is quite large negative number. I would expect to have minimum as zero accross pollutant."
   ]
  },
  {
   "cell_type": "code",
   "execution_count": 35,
   "metadata": {},
   "outputs": [
    {
     "data": {
      "text/html": [
       "<div>\n",
       "<style scoped>\n",
       "    .dataframe tbody tr th:only-of-type {\n",
       "        vertical-align: middle;\n",
       "    }\n",
       "\n",
       "    .dataframe tbody tr th {\n",
       "        vertical-align: top;\n",
       "    }\n",
       "\n",
       "    .dataframe thead th {\n",
       "        text-align: right;\n",
       "    }\n",
       "</style>\n",
       "<table border=\"1\" class=\"dataframe\">\n",
       "  <thead>\n",
       "    <tr style=\"text-align: right;\">\n",
       "      <th></th>\n",
       "      <th>Country Code</th>\n",
       "      <th>Country Label</th>\n",
       "      <th>City</th>\n",
       "      <th>Location</th>\n",
       "      <th>Pollutant</th>\n",
       "      <th>Source Name</th>\n",
       "      <th>Unit</th>\n",
       "      <th>Value</th>\n",
       "      <th>Last Updated</th>\n",
       "      <th>Lat</th>\n",
       "      <th>Long</th>\n",
       "    </tr>\n",
       "  </thead>\n",
       "  <tbody>\n",
       "    <tr>\n",
       "      <th>391</th>\n",
       "      <td>CA</td>\n",
       "      <td>Canada</td>\n",
       "      <td>BRITISH COLUMBIA</td>\n",
       "      <td>FORT ST JOHN LEARNIN</td>\n",
       "      <td>NO</td>\n",
       "      <td>AirNow</td>\n",
       "      <td>ppm</td>\n",
       "      <td>-0.0001</td>\n",
       "      <td>2023-08-09T11:00:00+04:00</td>\n",
       "      <td>56.244722</td>\n",
       "      <td>-120.856111</td>\n",
       "    </tr>\n",
       "    <tr>\n",
       "      <th>412</th>\n",
       "      <td>AE</td>\n",
       "      <td>United Arab Emirates</td>\n",
       "      <td>Dubai</td>\n",
       "      <td>US Diplomatic Post: Dubai</td>\n",
       "      <td>PM2.5</td>\n",
       "      <td>StateAir_Dubai</td>\n",
       "      <td>µg/m³</td>\n",
       "      <td>-999.0000</td>\n",
       "      <td>2023-08-09T12:00:00+04:00</td>\n",
       "      <td>25.258480</td>\n",
       "      <td>55.309166</td>\n",
       "    </tr>\n",
       "    <tr>\n",
       "      <th>487</th>\n",
       "      <td>CO</td>\n",
       "      <td>Colombia</td>\n",
       "      <td>Medellin</td>\n",
       "      <td>SUR-TRAF - Estación Tráfico Sur</td>\n",
       "      <td>PM10</td>\n",
       "      <td>Medellin</td>\n",
       "      <td>µg/m³</td>\n",
       "      <td>-9999.0000</td>\n",
       "      <td>2021-09-30T17:00:00+04:00</td>\n",
       "      <td>6.152313</td>\n",
       "      <td>-75.627487</td>\n",
       "    </tr>\n",
       "    <tr>\n",
       "      <th>491</th>\n",
       "      <td>CO</td>\n",
       "      <td>Colombia</td>\n",
       "      <td>NaN</td>\n",
       "      <td>GIR-IECO - Institucion Educativa Colombia. Gir...</td>\n",
       "      <td>PM10</td>\n",
       "      <td>Medellin</td>\n",
       "      <td>µg/m³</td>\n",
       "      <td>-9999.0000</td>\n",
       "      <td>2021-09-30T17:00:00+04:00</td>\n",
       "      <td>6.378361</td>\n",
       "      <td>-75.443886</td>\n",
       "    </tr>\n",
       "    <tr>\n",
       "      <th>617</th>\n",
       "      <td>SE</td>\n",
       "      <td>Sweden</td>\n",
       "      <td>Stockholm</td>\n",
       "      <td>Lilla Essingen (E4/E20)</td>\n",
       "      <td>NO2</td>\n",
       "      <td>Stockholm</td>\n",
       "      <td>µg/m³</td>\n",
       "      <td>-99.0000</td>\n",
       "      <td>2020-12-11T18:00:00+04:00</td>\n",
       "      <td>59.325519</td>\n",
       "      <td>18.003961</td>\n",
       "    </tr>\n",
       "  </tbody>\n",
       "</table>\n",
       "</div>"
      ],
      "text/plain": [
       "    Country Code         Country Label              City  \\\n",
       "391           CA                Canada  BRITISH COLUMBIA   \n",
       "412           AE  United Arab Emirates             Dubai   \n",
       "487           CO              Colombia          Medellin   \n",
       "491           CO              Colombia               NaN   \n",
       "617           SE                Sweden         Stockholm   \n",
       "\n",
       "                                              Location Pollutant  \\\n",
       "391                               FORT ST JOHN LEARNIN        NO   \n",
       "412                          US Diplomatic Post: Dubai     PM2.5   \n",
       "487                    SUR-TRAF - Estación Tráfico Sur      PM10   \n",
       "491  GIR-IECO - Institucion Educativa Colombia. Gir...      PM10   \n",
       "617                            Lilla Essingen (E4/E20)       NO2   \n",
       "\n",
       "        Source Name   Unit      Value               Last Updated        Lat  \\\n",
       "391          AirNow    ppm    -0.0001  2023-08-09T11:00:00+04:00  56.244722   \n",
       "412  StateAir_Dubai  µg/m³  -999.0000  2023-08-09T12:00:00+04:00  25.258480   \n",
       "487        Medellin  µg/m³ -9999.0000  2021-09-30T17:00:00+04:00   6.152313   \n",
       "491        Medellin  µg/m³ -9999.0000  2021-09-30T17:00:00+04:00   6.378361   \n",
       "617       Stockholm  µg/m³   -99.0000  2020-12-11T18:00:00+04:00  59.325519   \n",
       "\n",
       "           Long  \n",
       "391 -120.856111  \n",
       "412   55.309166  \n",
       "487  -75.627487  \n",
       "491  -75.443886  \n",
       "617   18.003961  "
      ]
     },
     "execution_count": 35,
     "metadata": {},
     "output_type": "execute_result"
    }
   ],
   "source": [
    "dfmain[dfmain['Value']<0].head()"
   ]
  },
  {
   "cell_type": "code",
   "execution_count": 36,
   "metadata": {},
   "outputs": [
    {
     "data": {
      "text/plain": [
       "(595, 11)"
      ]
     },
     "execution_count": 36,
     "metadata": {},
     "output_type": "execute_result"
    }
   ],
   "source": [
    "dfmain[dfmain['Value']<0].shape"
   ]
  },
  {
   "cell_type": "code",
   "execution_count": 39,
   "metadata": {},
   "outputs": [],
   "source": [
    "# So having some doubts that negative values in polutants is reliable measure, I will drop those. \n",
    "# Especially given that it's only ~600 out of 43k - we most likely won't loose much of information for the overview.\n",
    "dfmain = dfmain[dfmain['Value']>=0]"
   ]
  },
  {
   "cell_type": "code",
   "execution_count": 7,
   "metadata": {},
   "outputs": [
    {
     "data": {
      "text/plain": [
       "10"
      ]
     },
     "execution_count": 7,
     "metadata": {},
     "output_type": "execute_result"
    }
   ],
   "source": [
    "# While it is not exactly descriptive, it's still interesting to know the top 5 polluters globally (e.g. we can track the source further to find relations etc)\n",
    "dfmain['Pollutant'].drop_duplicates().size"
   ]
  },
  {
   "cell_type": "markdown",
   "metadata": {},
   "source": [
    "Below we are getting a slice of DF where pollutant grouped by the name and units (mean and max aggregating function). And we also display a country name with the Max level of the corresponding pollutant."
   ]
  },
  {
   "cell_type": "code",
   "execution_count": 28,
   "metadata": {},
   "outputs": [
    {
     "data": {
      "text/plain": [
       "\"\\nmax_merged = country_max.groupby(['Pollutant', 'Unit']).apply(\\n    lambda x: pd.Series({\\n        'Country Label with Max Value': x['Country Label'][x['max'].idxmax()],\\n        'Max Value': x['max'].max(),\\n        'Mean Value': x['mean'][x['max'].idxmax()]\\n    })\\n).reset_index()\\nmax_merged.head(5)\\n\""
      ]
     },
     "execution_count": 28,
     "metadata": {},
     "output_type": "execute_result"
    }
   ],
   "source": [
    "'''\n",
    "max_merged = country_max.groupby(['Pollutant', 'Unit']).apply(\n",
    "    lambda x: pd.Series({\n",
    "        'Country Label with Max Value': x['Country Label'][x['max'].idxmax()],\n",
    "        'Max Value': x['max'].max(),\n",
    "        'Mean Value': x['mean'][x['max'].idxmax()]\n",
    "    })\n",
    ").reset_index()\n",
    "max_merged.head(5)\n",
    "'''"
   ]
  },
  {
   "cell_type": "code",
   "execution_count": 40,
   "metadata": {},
   "outputs": [],
   "source": [
    "df_pol = dfmain.groupby(['Pollutant', 'Unit'])['Value'].agg(['mean', 'max']).reset_index() # max pollutant globally, gruoped by measure units\n",
    "country_max = dfmain.groupby(['Pollutant', 'Unit', 'Country Label'])['Value'].max().reset_index() # max level per country per pollutant\n",
    "# it's basically the same as df_pol, but we also identify country name with the max pollutant \n",
    "max_merged = country_max.groupby(['Pollutant', 'Unit']).apply(lambda x: x[x['Value'] == x['Value'].max()]['Country Label'].iloc[0]).reset_index(name='Country Label with Max Value')\n",
    "\n",
    "# now we need to merge two data sets, to have country name and actual level of pollutant // mean and max are on global level\n",
    "df_pol = df_pol.merge(max_merged, on=['Pollutant', 'Unit'])"
   ]
  },
  {
   "cell_type": "code",
   "execution_count": 41,
   "metadata": {},
   "outputs": [
    {
     "name": "stdout",
     "output_type": "stream",
     "text": [
      "   Pollutant   Unit         mean           max Country Label with Max Value\n",
      "0         BC  µg/m³     0.596927  7.408370e+00                       Poland\n",
      "1         CO    ppm     3.322073  1.242358e+03                       Mexico\n",
      "2         CO  µg/m³  9529.692726  3.198676e+06                       Turkey\n",
      "3         NO    ppm     0.007404  1.711500e+00                       Mexico\n",
      "4         NO  µg/m³     6.725494  8.051200e+02                      Iceland\n",
      "5        NO2    ppm     0.188879  7.228910e+01                      Ecuador\n",
      "6        NO2  µg/m³    20.042729  1.010644e+03                       Turkey\n",
      "7        NOX    ppm     0.014790  1.714300e+00                       Mexico\n",
      "8        NOX  µg/m³    13.733728  6.700000e+01                        Italy\n",
      "9         O3    ppm     0.035444  6.670000e-01                     Thailand\n",
      "10        O3  µg/m³    77.647063  2.004076e+03                       Turkey\n",
      "11       PM1  µg/m³     2.262500  4.000000e+00                        Spain\n",
      "12      PM10  µg/m³    37.990362  1.985000e+03                        India\n",
      "13     PM2.5    ppm     5.733333  1.040000e+01                    Australia\n",
      "14     PM2.5  µg/m³    19.846100  1.060000e+03                        India\n",
      "15       SO2    ppm     0.069378  4.918149e+01                      Ecuador\n",
      "16       SO2  µg/m³     9.430144  3.052620e+03                      Germany\n"
     ]
    }
   ],
   "source": [
    "print(df_pol)"
   ]
  },
  {
   "cell_type": "markdown",
   "metadata": {},
   "source": [
    "Since we are devided between measure units, and there is no reliable way to convert one to another (without additional input, e.g. tempreture, pressure etc at the particulare point of time in the particular place). \n",
    "We try to actually see how dominant those measures accross the dataset."
   ]
  },
  {
   "cell_type": "code",
   "execution_count": 66,
   "metadata": {},
   "outputs": [
    {
     "data": {
      "text/html": [
       "<div>\n",
       "<style scoped>\n",
       "    .dataframe tbody tr th:only-of-type {\n",
       "        vertical-align: middle;\n",
       "    }\n",
       "\n",
       "    .dataframe tbody tr th {\n",
       "        vertical-align: top;\n",
       "    }\n",
       "\n",
       "    .dataframe thead th {\n",
       "        text-align: right;\n",
       "    }\n",
       "</style>\n",
       "<table border=\"1\" class=\"dataframe\">\n",
       "  <thead>\n",
       "    <tr style=\"text-align: right;\">\n",
       "      <th>Unit</th>\n",
       "      <th>Pollutant</th>\n",
       "      <th>ppm units %</th>\n",
       "      <th>µg/m³ units %</th>\n",
       "    </tr>\n",
       "  </thead>\n",
       "  <tbody>\n",
       "    <tr>\n",
       "      <th>0</th>\n",
       "      <td>BC</td>\n",
       "      <td>NaN</td>\n",
       "      <td>100.00</td>\n",
       "    </tr>\n",
       "    <tr>\n",
       "      <th>1</th>\n",
       "      <td>CO</td>\n",
       "      <td>24.19</td>\n",
       "      <td>75.81</td>\n",
       "    </tr>\n",
       "    <tr>\n",
       "      <th>2</th>\n",
       "      <td>NO</td>\n",
       "      <td>26.62</td>\n",
       "      <td>73.38</td>\n",
       "    </tr>\n",
       "    <tr>\n",
       "      <th>3</th>\n",
       "      <td>NO2</td>\n",
       "      <td>19.44</td>\n",
       "      <td>80.56</td>\n",
       "    </tr>\n",
       "    <tr>\n",
       "      <th>4</th>\n",
       "      <td>NOX</td>\n",
       "      <td>79.46</td>\n",
       "      <td>20.54</td>\n",
       "    </tr>\n",
       "    <tr>\n",
       "      <th>5</th>\n",
       "      <td>O3</td>\n",
       "      <td>36.73</td>\n",
       "      <td>63.27</td>\n",
       "    </tr>\n",
       "    <tr>\n",
       "      <th>6</th>\n",
       "      <td>PM1</td>\n",
       "      <td>NaN</td>\n",
       "      <td>100.00</td>\n",
       "    </tr>\n",
       "    <tr>\n",
       "      <th>7</th>\n",
       "      <td>PM10</td>\n",
       "      <td>NaN</td>\n",
       "      <td>100.00</td>\n",
       "    </tr>\n",
       "    <tr>\n",
       "      <th>8</th>\n",
       "      <td>PM2.5</td>\n",
       "      <td>0.08</td>\n",
       "      <td>99.92</td>\n",
       "    </tr>\n",
       "    <tr>\n",
       "      <th>9</th>\n",
       "      <td>SO2</td>\n",
       "      <td>25.59</td>\n",
       "      <td>74.41</td>\n",
       "    </tr>\n",
       "  </tbody>\n",
       "</table>\n",
       "</div>"
      ],
      "text/plain": [
       "Unit Pollutant  ppm units %  µg/m³ units % \n",
       "0           BC          NaN          100.00\n",
       "1           CO        24.19           75.81\n",
       "2           NO        26.62           73.38\n",
       "3          NO2        19.44           80.56\n",
       "4          NOX        79.46           20.54\n",
       "5           O3        36.73           63.27\n",
       "6          PM1          NaN          100.00\n",
       "7         PM10          NaN          100.00\n",
       "8        PM2.5         0.08           99.92\n",
       "9          SO2        25.59           74.41"
      ]
     },
     "execution_count": 66,
     "metadata": {},
     "output_type": "execute_result"
    }
   ],
   "source": [
    "# Counting Units per pollutant\n",
    "tot_per_pol = dfmain.groupby('Pollutant').size()  # total pollutant observation entries per polutant\n",
    "df_unit_count = dfmain.groupby(['Pollutant', 'Unit']).size().reset_index(name=\"Unit Count\")\n",
    "df_unit_count['% of unit'] = df_unit_count.apply(lambda row: round((row['Unit Count']/ tot_per_pol[row['Pollutant']])*100,2), axis=1)\n",
    "piv_res = df_unit_count.pivot(index='Pollutant', columns = 'Unit', values = '% of unit').reset_index()\n",
    "piv_res = piv_res.rename(columns={'ppm': 'ppm units %', 'µg/m³': 'µg/m³ units % '})\n",
    "piv_res"
   ]
  },
  {
   "cell_type": "markdown",
   "metadata": {},
   "source": [
    "So the next would be reasonable to identify the same as above not only per pollutant but also per country. \n",
    "And then to identify which unit measure is actually appropriate to take to which country. E.g. we can see that Germany is high by SO2, so as Ecuador.\n",
    "But maybe it doesn't make sence to represent Ecuador for SO2 at all, since they are not measuring in this units much, or proportionaly it's very small.\n",
    "We also need slices and ratings per each country."
   ]
  }
 ],
 "metadata": {
  "kernelspec": {
   "display_name": "DA_env",
   "language": "python",
   "name": "python3"
  },
  "language_info": {
   "codemirror_mode": {
    "name": "ipython",
    "version": 3
   },
   "file_extension": ".py",
   "mimetype": "text/x-python",
   "name": "python",
   "nbconvert_exporter": "python",
   "pygments_lexer": "ipython3",
   "version": "3.6.6"
  },
  "orig_nbformat": 4
 },
 "nbformat": 4,
 "nbformat_minor": 2
}
