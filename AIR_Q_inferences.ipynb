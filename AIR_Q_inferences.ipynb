{
 "cells": [
  {
   "cell_type": "code",
   "execution_count": 1,
   "metadata": {},
   "outputs": [],
   "source": [
    "import pandas as pd\n",
    "import numpy as np"
   ]
  },
  {
   "cell_type": "markdown",
   "metadata": {},
   "source": [
    "1. The top 5 polutants (globally)\n",
    "2. Most polluted locations (by Country/City)\n",
    "    - in terms of number of pollutants \n",
    "    - in terms of concentration\n",
    "3. Getting the population in locations where possible"
   ]
  },
  {
   "cell_type": "code",
   "execution_count": 4,
   "metadata": {},
   "outputs": [
    {
     "data": {
      "text/plain": [
       "(43450, 11)"
      ]
     },
     "execution_count": 4,
     "metadata": {},
     "output_type": "execute_result"
    }
   ],
   "source": [
    "dfmain = pd.read_csv('source//temp//AIRclean.csv')\n",
    "dfmain.shape"
   ]
  },
  {
   "cell_type": "code",
   "execution_count": 5,
   "metadata": {},
   "outputs": [
    {
     "data": {
      "text/plain": [
       "Index(['Country Code', 'Country Label', 'City', 'Location', 'Pollutant',\n",
       "       'Source Name', 'Unit', 'Value', 'Last Updated', 'Lat', 'Long'],\n",
       "      dtype='object')"
      ]
     },
     "execution_count": 5,
     "metadata": {},
     "output_type": "execute_result"
    }
   ],
   "source": [
    "dfmain.columns"
   ]
  },
  {
   "cell_type": "code",
   "execution_count": 7,
   "metadata": {},
   "outputs": [
    {
     "data": {
      "text/plain": [
       "10"
      ]
     },
     "execution_count": 7,
     "metadata": {},
     "output_type": "execute_result"
    }
   ],
   "source": [
    "# While it is not exactly descriptive, it's still interesting to know the top 5 polluters globally (e.g. we can track the source further to find relations etc)\n",
    "dfmain['Pollutant'].drop_duplicates().size\n"
   ]
  },
  {
   "cell_type": "markdown",
   "metadata": {},
   "source": [
    "Below we are getting a slice of DF where pollutant grouped by the name and measure units (mean and max aggregating function). And we also display a country name with the Max level of the corresponding pollutant."
   ]
  },
  {
   "cell_type": "code",
   "execution_count": 28,
   "metadata": {},
   "outputs": [
    {
     "name": "stderr",
     "output_type": "stream",
     "text": [
      "c:\\Users\\p879318\\OneDrive - Unicredit\\Documents\\My\\projects\\DA\\DA_env\\lib\\site-packages\\pandas\\core\\reshape\\merge.py:643: UserWarning: merging between different levels can give an unintended result (2 levels on the left,1 on the right)\n",
      "  warnings.warn(msg, UserWarning)\n"
     ]
    }
   ],
   "source": [
    "df_pol = dfmain.groupby(['Pollutant', 'Unit']).agg({'Value':['mean', 'max']})\n",
    "country_max = dfmain.groupby(['Pollutant', 'Unit', 'Country Label'])['Value'].max().reset_index()\n",
    "max_merged = country_max.groupby(['Pollutant', 'Unit']).apply(lambda x: x[x['Value'] == x['Value'].max()]['Country Label'].iloc[0]).reset_index(name='Country Label with Max Value')\n",
    "df_pol = df_pol.merge(max_merged, on=['Pollutant', 'Unit'])"
   ]
  },
  {
   "cell_type": "code",
   "execution_count": 29,
   "metadata": {},
   "outputs": [
    {
     "name": "stdout",
     "output_type": "stream",
     "text": [
      "   Pollutant   Unit  (Value, mean)  (Value, max) Country Label with Max Value\n",
      "0         BC  µg/m³       0.577989  7.408370e+00                       Poland\n",
      "1         CO    ppm     -50.894869  1.242358e+03                       Mexico\n",
      "2         CO  µg/m³    9471.105145  3.198676e+06                       Turkey\n",
      "3         NO    ppm      -0.013174  1.711500e+00                       Mexico\n",
      "4         NO  µg/m³     -25.160050  8.051200e+02                      Iceland\n",
      "5        NO2    ppm     -26.719163  7.228910e+01                      Ecuador\n",
      "6        NO2  µg/m³       9.045714  1.010644e+03                       Turkey\n",
      "7        NOX    ppm      -0.009460  1.714300e+00                       Mexico\n",
      "8        NOX  µg/m³      13.733728  6.700000e+01                        Italy\n",
      "9         O3    ppm     -10.885280  6.670000e-01                     Thailand\n",
      "10        O3  µg/m³      73.955477  2.004076e+03                       Turkey\n",
      "11       PM1  µg/m³       2.262500  4.000000e+00                        Spain\n",
      "12      PM10  µg/m³      25.819548  1.985000e+03                        India\n",
      "13     PM2.5    ppm       5.733333  1.040000e+01                    Australia\n",
      "14     PM2.5  µg/m³       4.288905  1.060000e+03                        India\n",
      "15       SO2    ppm     -33.188512  4.918149e+01                      Ecuador\n",
      "16       SO2  µg/m³       8.823360  3.052620e+03                      Germany\n"
     ]
    }
   ],
   "source": [
    "print(df_pol)"
   ]
  },
  {
   "cell_type": "markdown",
   "metadata": {},
   "source": [
    "It's interesting that some of mean values are negative. To be investigated."
   ]
  }
 ],
 "metadata": {
  "kernelspec": {
   "display_name": "DA_env",
   "language": "python",
   "name": "python3"
  },
  "language_info": {
   "codemirror_mode": {
    "name": "ipython",
    "version": 3
   },
   "file_extension": ".py",
   "mimetype": "text/x-python",
   "name": "python",
   "nbconvert_exporter": "python",
   "pygments_lexer": "ipython3",
   "version": "3.6.6"
  },
  "orig_nbformat": 4
 },
 "nbformat": 4,
 "nbformat_minor": 2
}
