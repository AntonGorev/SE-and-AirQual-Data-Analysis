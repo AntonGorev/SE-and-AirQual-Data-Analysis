{
 "cells": [
  {
   "cell_type": "code",
   "execution_count": 5,
   "id": "b7518d71-c9b1-4623-9b44-ef9b423d9d21",
   "metadata": {},
   "outputs": [],
   "source": [
    "import pandas as pd\n",
    "import numpy as np"
   ]
  },
  {
   "cell_type": "markdown",
   "id": "923164d6",
   "metadata": {},
   "source": [
    "Import data"
   ]
  },
  {
   "cell_type": "code",
   "execution_count": 6,
   "id": "0c54bb6d",
   "metadata": {},
   "outputs": [],
   "source": [
    "dfAir = pd.read_csv('source/AIR_QUALITY/world_air_quality_with_locations.csv')"
   ]
  },
  {
   "cell_type": "code",
   "execution_count": 7,
   "id": "b6c95b8b",
   "metadata": {},
   "outputs": [
    {
     "data": {
      "text/html": [
       "<div>\n",
       "<style scoped>\n",
       "    .dataframe tbody tr th:only-of-type {\n",
       "        vertical-align: middle;\n",
       "    }\n",
       "\n",
       "    .dataframe tbody tr th {\n",
       "        vertical-align: top;\n",
       "    }\n",
       "\n",
       "    .dataframe thead th {\n",
       "        text-align: right;\n",
       "    }\n",
       "</style>\n",
       "<table border=\"1\" class=\"dataframe\">\n",
       "  <thead>\n",
       "    <tr style=\"text-align: right;\">\n",
       "      <th></th>\n",
       "      <th>Unnamed: 0</th>\n",
       "      <th>Country Code</th>\n",
       "      <th>City</th>\n",
       "      <th>Location</th>\n",
       "      <th>Coordinates</th>\n",
       "      <th>Pollutant</th>\n",
       "      <th>Source Name</th>\n",
       "      <th>Unit</th>\n",
       "      <th>Value</th>\n",
       "      <th>Last Updated</th>\n",
       "      <th>Country Label</th>\n",
       "      <th>Lat</th>\n",
       "      <th>Long</th>\n",
       "    </tr>\n",
       "  </thead>\n",
       "  <tbody>\n",
       "    <tr>\n",
       "      <th>0</th>\n",
       "      <td>0</td>\n",
       "      <td>CL</td>\n",
       "      <td>Catemu</td>\n",
       "      <td>Santa Margarita</td>\n",
       "      <td>-32.776573, -70.938144</td>\n",
       "      <td>PM2.5</td>\n",
       "      <td>Chile - SINCA</td>\n",
       "      <td>µg/m³</td>\n",
       "      <td>0.00</td>\n",
       "      <td>2017-06-28T17:00:00+04:00</td>\n",
       "      <td>Chile</td>\n",
       "      <td>-32.776573</td>\n",
       "      <td>-70.938144</td>\n",
       "    </tr>\n",
       "    <tr>\n",
       "      <th>1</th>\n",
       "      <td>1</td>\n",
       "      <td>CL</td>\n",
       "      <td>Coyhaique</td>\n",
       "      <td>Coyhaique II</td>\n",
       "      <td>-45.579045667164, -72.049964505825</td>\n",
       "      <td>SO2</td>\n",
       "      <td>Chile - SINCA</td>\n",
       "      <td>µg/m³</td>\n",
       "      <td>16.63</td>\n",
       "      <td>2023-08-09T11:00:00+04:00</td>\n",
       "      <td>Chile</td>\n",
       "      <td>-45.579046</td>\n",
       "      <td>-72.049965</td>\n",
       "    </tr>\n",
       "    <tr>\n",
       "      <th>2</th>\n",
       "      <td>2</td>\n",
       "      <td>CL</td>\n",
       "      <td>Calama</td>\n",
       "      <td>Colegio Pedro Vergara Keller</td>\n",
       "      <td>-22.44283906304, -68.932546346863</td>\n",
       "      <td>PM10</td>\n",
       "      <td>Chile - SINCA</td>\n",
       "      <td>µg/m³</td>\n",
       "      <td>69.00</td>\n",
       "      <td>2023-08-09T11:00:00+04:00</td>\n",
       "      <td>Chile</td>\n",
       "      <td>-22.442839</td>\n",
       "      <td>-68.932546</td>\n",
       "    </tr>\n",
       "    <tr>\n",
       "      <th>3</th>\n",
       "      <td>3</td>\n",
       "      <td>CL</td>\n",
       "      <td>Coquimbo</td>\n",
       "      <td>La Serena</td>\n",
       "      <td>-29.933006518748, -71.261966365967</td>\n",
       "      <td>PM2.5</td>\n",
       "      <td>Chile - SINCA</td>\n",
       "      <td>µg/m³</td>\n",
       "      <td>21.00</td>\n",
       "      <td>2023-08-09T11:00:00+04:00</td>\n",
       "      <td>Chile</td>\n",
       "      <td>-29.933007</td>\n",
       "      <td>-71.261966</td>\n",
       "    </tr>\n",
       "    <tr>\n",
       "      <th>4</th>\n",
       "      <td>4</td>\n",
       "      <td>CL</td>\n",
       "      <td>Talagante</td>\n",
       "      <td>Talagante</td>\n",
       "      <td>-33.673752071375, -70.953064737434</td>\n",
       "      <td>NO2</td>\n",
       "      <td>Chile - SINCA</td>\n",
       "      <td>µg/m³</td>\n",
       "      <td>134.80</td>\n",
       "      <td>2019-12-05T21:00:00+04:00</td>\n",
       "      <td>Chile</td>\n",
       "      <td>-33.673752</td>\n",
       "      <td>-70.953065</td>\n",
       "    </tr>\n",
       "  </tbody>\n",
       "</table>\n",
       "</div>"
      ],
      "text/plain": [
       "   Unnamed: 0 Country Code       City                      Location  \\\n",
       "0           0           CL     Catemu               Santa Margarita   \n",
       "1           1           CL  Coyhaique                  Coyhaique II   \n",
       "2           2           CL     Calama  Colegio Pedro Vergara Keller   \n",
       "3           3           CL   Coquimbo                     La Serena   \n",
       "4           4           CL  Talagante                     Talagante   \n",
       "\n",
       "                          Coordinates Pollutant    Source Name   Unit   Value  \\\n",
       "0              -32.776573, -70.938144     PM2.5  Chile - SINCA  µg/m³    0.00   \n",
       "1  -45.579045667164, -72.049964505825       SO2  Chile - SINCA  µg/m³   16.63   \n",
       "2   -22.44283906304, -68.932546346863      PM10  Chile - SINCA  µg/m³   69.00   \n",
       "3  -29.933006518748, -71.261966365967     PM2.5  Chile - SINCA  µg/m³   21.00   \n",
       "4  -33.673752071375, -70.953064737434       NO2  Chile - SINCA  µg/m³  134.80   \n",
       "\n",
       "                Last Updated Country Label        Lat       Long  \n",
       "0  2017-06-28T17:00:00+04:00         Chile -32.776573 -70.938144  \n",
       "1  2023-08-09T11:00:00+04:00         Chile -45.579046 -72.049965  \n",
       "2  2023-08-09T11:00:00+04:00         Chile -22.442839 -68.932546  \n",
       "3  2023-08-09T11:00:00+04:00         Chile -29.933007 -71.261966  \n",
       "4  2019-12-05T21:00:00+04:00         Chile -33.673752 -70.953065  "
      ]
     },
     "execution_count": 7,
     "metadata": {},
     "output_type": "execute_result"
    }
   ],
   "source": [
    "dfAir.head()"
   ]
  },
  {
   "cell_type": "markdown",
   "id": "2eb8942d",
   "metadata": {},
   "source": [
    "From the first glimps 'Coordinates' column is just a concatenation of 'Lat' and 'Long', therefore we probably should drop one of them. \n",
    "We first check which ('Coordinates' or pair of 'Lat' and 'Long') contains more precise data and then drop redundant."
   ]
  },
  {
   "cell_type": "code",
   "execution_count": 8,
   "id": "a27c94f0",
   "metadata": {},
   "outputs": [
    {
     "name": "stdout",
     "output_type": "stream",
     "text": [
      "<class 'pandas.core.frame.DataFrame'>\n",
      "RangeIndex: 43450 entries, 0 to 43449\n",
      "Data columns (total 13 columns):\n",
      " #   Column         Non-Null Count  Dtype  \n",
      "---  ------         --------------  -----  \n",
      " 0   Unnamed: 0     43450 non-null  int64  \n",
      " 1   Country Code   43450 non-null  object \n",
      " 2   City           26744 non-null  object \n",
      " 3   Location       43448 non-null  object \n",
      " 4   Coordinates    43231 non-null  object \n",
      " 5   Pollutant      43450 non-null  object \n",
      " 6   Source Name    43450 non-null  object \n",
      " 7   Unit           43450 non-null  object \n",
      " 8   Value          43450 non-null  float64\n",
      " 9   Last Updated   43450 non-null  object \n",
      " 10  Country Label  43335 non-null  object \n",
      " 11  Lat            43231 non-null  float64\n",
      " 12  Long           43231 non-null  float64\n",
      "dtypes: float64(3), int64(1), object(9)\n",
      "memory usage: 4.3+ MB\n"
     ]
    }
   ],
   "source": [
    "dfAir.info()"
   ]
  },
  {
   "cell_type": "code",
   "execution_count": 9,
   "id": "59d8008a",
   "metadata": {},
   "outputs": [
    {
     "data": {
      "text/html": [
       "<div>\n",
       "<style scoped>\n",
       "    .dataframe tbody tr th:only-of-type {\n",
       "        vertical-align: middle;\n",
       "    }\n",
       "\n",
       "    .dataframe tbody tr th {\n",
       "        vertical-align: top;\n",
       "    }\n",
       "\n",
       "    .dataframe thead th {\n",
       "        text-align: right;\n",
       "    }\n",
       "</style>\n",
       "<table border=\"1\" class=\"dataframe\">\n",
       "  <thead>\n",
       "    <tr style=\"text-align: right;\">\n",
       "      <th></th>\n",
       "      <th>coor_lat</th>\n",
       "      <th>coor_long</th>\n",
       "    </tr>\n",
       "  </thead>\n",
       "  <tbody>\n",
       "    <tr>\n",
       "      <th>0</th>\n",
       "      <td>-32.776573</td>\n",
       "      <td>-70.938144</td>\n",
       "    </tr>\n",
       "    <tr>\n",
       "      <th>1</th>\n",
       "      <td>-45.579045667164</td>\n",
       "      <td>-72.049964505825</td>\n",
       "    </tr>\n",
       "    <tr>\n",
       "      <th>2</th>\n",
       "      <td>-22.44283906304</td>\n",
       "      <td>-68.932546346863</td>\n",
       "    </tr>\n",
       "    <tr>\n",
       "      <th>3</th>\n",
       "      <td>-29.933006518748</td>\n",
       "      <td>-71.261966365967</td>\n",
       "    </tr>\n",
       "    <tr>\n",
       "      <th>4</th>\n",
       "      <td>-33.673752071375</td>\n",
       "      <td>-70.953064737434</td>\n",
       "    </tr>\n",
       "  </tbody>\n",
       "</table>\n",
       "</div>"
      ],
      "text/plain": [
       "           coor_lat          coor_long\n",
       "0        -32.776573         -70.938144\n",
       "1  -45.579045667164   -72.049964505825\n",
       "2   -22.44283906304   -68.932546346863\n",
       "3  -29.933006518748   -71.261966365967\n",
       "4  -33.673752071375   -70.953064737434"
      ]
     },
     "execution_count": 9,
     "metadata": {},
     "output_type": "execute_result"
    }
   ],
   "source": [
    "# Get latitude and longtitude from the Coordinates column\n",
    "lat_long = dfAir['Coordinates'].str.split(',', expand=True)\n",
    "lat_long.columns=['coor_lat', 'coor_long']\n",
    "lat_long.head()\n"
   ]
  },
  {
   "cell_type": "code",
   "execution_count": 10,
   "id": "73aa84dc",
   "metadata": {},
   "outputs": [
    {
     "name": "stdout",
     "output_type": "stream",
     "text": [
      "<class 'pandas.core.frame.DataFrame'>\n",
      "RangeIndex: 43450 entries, 0 to 43449\n",
      "Data columns (total 15 columns):\n",
      " #   Column         Non-Null Count  Dtype  \n",
      "---  ------         --------------  -----  \n",
      " 0   Unnamed: 0     43450 non-null  int64  \n",
      " 1   Country Code   43450 non-null  object \n",
      " 2   City           26744 non-null  object \n",
      " 3   Location       43448 non-null  object \n",
      " 4   Coordinates    43231 non-null  object \n",
      " 5   Pollutant      43450 non-null  object \n",
      " 6   Source Name    43450 non-null  object \n",
      " 7   Unit           43450 non-null  object \n",
      " 8   Value          43450 non-null  float64\n",
      " 9   Last Updated   43450 non-null  object \n",
      " 10  Country Label  43335 non-null  object \n",
      " 11  Lat            43231 non-null  float64\n",
      " 12  Long           43231 non-null  float64\n",
      " 13  coor_lat       43231 non-null  object \n",
      " 14  coor_long      43231 non-null  object \n",
      "dtypes: float64(3), int64(1), object(11)\n",
      "memory usage: 5.0+ MB\n"
     ]
    }
   ],
   "source": [
    "dfAir = pd.concat([dfAir, lat_long], axis=1)\n",
    "dfAir.info()"
   ]
  },
  {
   "cell_type": "code",
   "execution_count": 11,
   "id": "59aa7673",
   "metadata": {},
   "outputs": [
    {
     "data": {
      "text/html": [
       "<div>\n",
       "<style scoped>\n",
       "    .dataframe tbody tr th:only-of-type {\n",
       "        vertical-align: middle;\n",
       "    }\n",
       "\n",
       "    .dataframe tbody tr th {\n",
       "        vertical-align: top;\n",
       "    }\n",
       "\n",
       "    .dataframe thead th {\n",
       "        text-align: right;\n",
       "    }\n",
       "</style>\n",
       "<table border=\"1\" class=\"dataframe\">\n",
       "  <thead>\n",
       "    <tr style=\"text-align: right;\">\n",
       "      <th></th>\n",
       "      <th>coor_lat</th>\n",
       "      <th>coor_long</th>\n",
       "    </tr>\n",
       "  </thead>\n",
       "  <tbody>\n",
       "    <tr>\n",
       "      <th>0</th>\n",
       "      <td>-32.776573</td>\n",
       "      <td>-70.938144</td>\n",
       "    </tr>\n",
       "    <tr>\n",
       "      <th>1</th>\n",
       "      <td>-45.579046</td>\n",
       "      <td>-72.049965</td>\n",
       "    </tr>\n",
       "    <tr>\n",
       "      <th>2</th>\n",
       "      <td>-22.442839</td>\n",
       "      <td>-68.932546</td>\n",
       "    </tr>\n",
       "    <tr>\n",
       "      <th>3</th>\n",
       "      <td>-29.933007</td>\n",
       "      <td>-71.261966</td>\n",
       "    </tr>\n",
       "    <tr>\n",
       "      <th>4</th>\n",
       "      <td>-33.673752</td>\n",
       "      <td>-70.953065</td>\n",
       "    </tr>\n",
       "  </tbody>\n",
       "</table>\n",
       "</div>"
      ],
      "text/plain": [
       "    coor_lat  coor_long\n",
       "0 -32.776573 -70.938144\n",
       "1 -45.579046 -72.049965\n",
       "2 -22.442839 -68.932546\n",
       "3 -29.933007 -71.261966\n",
       "4 -33.673752 -70.953065"
      ]
     },
     "execution_count": 11,
     "metadata": {},
     "output_type": "execute_result"
    }
   ],
   "source": [
    "for colname in ('coor_lat','coor_long'):\n",
    "    dfAir[colname] = pd.to_numeric(dfAir[colname], errors='coerce')\n",
    "\n",
    "dfAir[['coor_lat','coor_long']].head()"
   ]
  },
  {
   "cell_type": "code",
   "execution_count": 12,
   "id": "e4fb35e0",
   "metadata": {},
   "outputs": [
    {
     "data": {
      "text/plain": [
       "(0, 15)"
      ]
     },
     "execution_count": 12,
     "metadata": {},
     "output_type": "execute_result"
    }
   ],
   "source": [
    "# check whether anything is missing after all\n",
    "dfAir[((dfAir['Lat']!=dfAir['coor_lat']) | (dfAir['Long']!=dfAir['coor_long'])) & ~dfAir['Coordinates'].isna()].shape"
   ]
  },
  {
   "cell_type": "code",
   "execution_count": 13,
   "id": "40fb3510",
   "metadata": {},
   "outputs": [
    {
     "data": {
      "text/plain": [
       "(0, 15)"
      ]
     },
     "execution_count": 13,
     "metadata": {},
     "output_type": "execute_result"
    }
   ],
   "source": [
    "# check whether there is any diff\n",
    "dfAir[((dfAir['Lat']!=dfAir['coor_lat']) | (dfAir['Long']!=dfAir['coor_long'])) & ~dfAir['Coordinates'].isna()].shape"
   ]
  },
  {
   "cell_type": "markdown",
   "id": "dae40e55",
   "metadata": {},
   "source": [
    "Visibly as string df showed better precision in 'Coordinates' column. In fact we can see that they are the same. So we drop redundant to make df more simpler.\n",
    "We are not dropping any information from the set, only virtually duplicated columns. "
   ]
  },
  {
   "cell_type": "code",
   "execution_count": 14,
   "id": "f2d0588c",
   "metadata": {},
   "outputs": [
    {
     "name": "stdout",
     "output_type": "stream",
     "text": [
      "<class 'pandas.core.frame.DataFrame'>\n",
      "RangeIndex: 43450 entries, 0 to 43449\n",
      "Data columns (total 11 columns):\n",
      " #   Column         Non-Null Count  Dtype  \n",
      "---  ------         --------------  -----  \n",
      " 0   Country Code   43450 non-null  object \n",
      " 1   City           26744 non-null  object \n",
      " 2   Location       43448 non-null  object \n",
      " 3   Pollutant      43450 non-null  object \n",
      " 4   Source Name    43450 non-null  object \n",
      " 5   Unit           43450 non-null  object \n",
      " 6   Value          43450 non-null  float64\n",
      " 7   Last Updated   43450 non-null  object \n",
      " 8   Country Label  43335 non-null  object \n",
      " 9   Lat            43231 non-null  float64\n",
      " 10  Long           43231 non-null  float64\n",
      "dtypes: float64(3), object(8)\n",
      "memory usage: 3.6+ MB\n"
     ]
    }
   ],
   "source": [
    "# re-arrange order and drop redundant columns\n",
    "dfAir = dfAir[[ #'Unnamed: 0',\n",
    "                'Country Code', 'City', 'Location',\n",
    "                #'Coordinates',\n",
    "                'Pollutant', 'Source Name', 'Unit', 'Value', 'Last Updated',\n",
    "                'Country Label', 'Lat', 'Long']]\n",
    "dfAir.info()"
   ]
  },
  {
   "cell_type": "markdown",
   "id": "90f12273",
   "metadata": {},
   "source": [
    "Export to csv as temp, so to work further with a clean result"
   ]
  },
  {
   "cell_type": "code",
   "execution_count": 15,
   "id": "82fdf91a",
   "metadata": {},
   "outputs": [],
   "source": [
    "dfAir.to_csv('temp\\\\AIRclean.csv', index=False)"
   ]
  }
 ],
 "metadata": {
  "kernelspec": {
   "display_name": "Python 3 (ipykernel)",
   "language": "python",
   "name": "python3"
  },
  "language_info": {
   "codemirror_mode": {
    "name": "ipython",
    "version": 3
   },
   "file_extension": ".py",
   "mimetype": "text/x-python",
   "name": "python",
   "nbconvert_exporter": "python",
   "pygments_lexer": "ipython3",
   "version": "3.6.6"
  }
 },
 "nbformat": 4,
 "nbformat_minor": 5
}
